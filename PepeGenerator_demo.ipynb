{
 "nbformat": 4,
 "nbformat_minor": 0,
 "metadata": {
  "colab": {
   "provenance": [],
   "gpuType": "T4"
  },
  "kernelspec": {
   "name": "python3",
   "language": "python",
   "display_name": "Python 3 (ipykernel)"
  },
  "language_info": {
   "name": "python"
  },
  "accelerator": "GPU",
  "widgets": {
   "application/vnd.jupyter.widget-state+json": {
    "58a0a3cceed94b229e6369846b9ef4cc": {
     "model_module": "@jupyter-widgets/output",
     "model_name": "OutputModel",
     "model_module_version": "1.0.0",
     "state": {
      "_dom_classes": [],
      "_model_module": "@jupyter-widgets/output",
      "_model_module_version": "1.0.0",
      "_model_name": "OutputModel",
      "_view_count": null,
      "_view_module": "@jupyter-widgets/output",
      "_view_module_version": "1.0.0",
      "_view_name": "OutputView",
      "layout": "IPY_MODEL_3c150adbe7fb4708952c1e0023552a3c",
      "msg_id": "",
      "outputs": [
       {
        "output_type": "display_data",
        "data": {
         "text/plain": "  \u001B[37mGenerating 16 images\u001B[0m \u001B[38;2;114;156;31m━━━━━━━━━━━━━━━━━━━━━━━━━━━━━━━━━━━━━━━━\u001B[0m \u001B[32m1000/1000\u001B[0m \u001B[33m0:04:28\u001B[0m \u001B[36m0:00:00\u001B[0m\n",
         "text/html": "<pre style=\"white-space:pre;overflow-x:auto;line-height:normal;font-family:Menlo,'DejaVu Sans Mono',consolas,'Courier New',monospace\">  <span style=\"color: #c0c0c0; text-decoration-color: #c0c0c0\">Generating 16 images</span> <span style=\"color: #729c1f; text-decoration-color: #729c1f\">━━━━━━━━━━━━━━━━━━━━━━━━━━━━━━━━━━━━━━━━</span> <span style=\"color: #008000; text-decoration-color: #008000\">1000/1000</span> <span style=\"color: #808000; text-decoration-color: #808000\">0:04:28</span> <span style=\"color: #008080; text-decoration-color: #008080\">0:00:00</span>\n</pre>\n"
        },
        "metadata": {}
       }
      ]
     }
    },
    "3c150adbe7fb4708952c1e0023552a3c": {
     "model_module": "@jupyter-widgets/base",
     "model_name": "LayoutModel",
     "model_module_version": "1.2.0",
     "state": {
      "_model_module": "@jupyter-widgets/base",
      "_model_module_version": "1.2.0",
      "_model_name": "LayoutModel",
      "_view_count": null,
      "_view_module": "@jupyter-widgets/base",
      "_view_module_version": "1.2.0",
      "_view_name": "LayoutView",
      "align_content": null,
      "align_items": null,
      "align_self": null,
      "border": null,
      "bottom": null,
      "display": null,
      "flex": null,
      "flex_flow": null,
      "grid_area": null,
      "grid_auto_columns": null,
      "grid_auto_flow": null,
      "grid_auto_rows": null,
      "grid_column": null,
      "grid_gap": null,
      "grid_row": null,
      "grid_template_areas": null,
      "grid_template_columns": null,
      "grid_template_rows": null,
      "height": null,
      "justify_content": null,
      "justify_items": null,
      "left": null,
      "margin": null,
      "max_height": null,
      "max_width": null,
      "min_height": null,
      "min_width": null,
      "object_fit": null,
      "object_position": null,
      "order": null,
      "overflow": null,
      "overflow_x": null,
      "overflow_y": null,
      "padding": null,
      "right": null,
      "top": null,
      "visibility": null,
      "width": null
     }
    }
   }
  }
 },
 "cells": [
  {
   "cell_type": "markdown",
   "source": [
    "# Prepare colab environment"
   ],
   "metadata": {
    "id": "6kHUawSGwLA5"
   }
  },
  {
   "cell_type": "code",
   "source": [
    "import os\n",
    "import sys\n",
    "\n",
    "IN_COLAB = 'google.colab' in sys.modules\n",
    "print(f'Running in google colab: {IN_COLAB}')"
   ],
   "metadata": {
    "colab": {
     "base_uri": "https://localhost:8080/"
    },
    "id": "URxGGSLykzl7",
    "outputId": "6cd3e335-a1c9-487b-e67f-46af5337506d",
    "ExecuteTime": {
     "end_time": "2023-08-20T16:51:34.846898994Z",
     "start_time": "2023-08-20T16:51:34.846227868Z"
    }
   },
   "execution_count": 1,
   "outputs": [
    {
     "name": "stdout",
     "output_type": "stream",
     "text": [
      "Running in google colab: False\n"
     ]
    }
   ]
  },
  {
   "cell_type": "code",
   "source": [
    "if IN_COLAB:\n",
    "    import gdown\n",
    "    # Prepare colab environment\n",
    "    !git clone https://github.com/Sleepon1805/PepeGeneration.git\n",
    "    print('Successfully cloned PepeGeneration repo.')\n",
    "\n",
    "    os.chdir(\"/content/PepeGeneration\")\n",
    "    print(f'Changed working directory to {os.getcwd()}')\n",
    "\n",
    "    !pip install --upgrade pip\n",
    "    !pip install -r requirements_demo.txt\n",
    "    print('Successfully installed all requirements.')\n",
    "\n",
    "    # Download checkpoint from shared Drive file\n",
    "    drive_link_id = '13byaG4vybYpgWvdYo9NScNm0bbKLxnQY'\n",
    "    gdown.download_folder(id=drive_link_id, quiet=False)\n",
    "    print('Successfully downloaded folder with checkpoint.')"
   ],
   "metadata": {
    "colab": {
     "base_uri": "https://localhost:8080/"
    },
    "id": "2s1SF41Wm5U1",
    "outputId": "4c3598f7-9767-4220-ffc1-de7f09c9a3e3",
    "ExecuteTime": {
     "end_time": "2023-08-20T16:51:34.847421691Z",
     "start_time": "2023-08-20T16:51:34.846725457Z"
    }
   },
   "execution_count": 2,
   "outputs": []
  },
  {
   "cell_type": "markdown",
   "source": [
    "# Load checkpoint and config"
   ],
   "metadata": {
    "id": "VKsvYaxMw3e1"
   }
  },
  {
   "cell_type": "code",
   "source": [
    "# Specify path to model checkpoint and config here!!!\n",
    "#####################################################\n",
    "ckpt_path = '/home/sleepon/repos/PepeGenerator/lightning_logs/celeba/version_11/checkpoints/epoch=07-fid_metric=1.83-val_loss=0.0254.ckpt'\n",
    "#####################################################\n",
    "\n",
    "assert os.path.exists(ckpt_path), 'Did not found path with model checkpoint. Check that checkpoint is downloaded and path is correct.'\n",
    "print('Specified path with model checkpoint exists.')\n",
    "print(f'Model checkpoint path: {ckpt_path}')"
   ],
   "metadata": {
    "colab": {
     "base_uri": "https://localhost:8080/"
    },
    "id": "V3arQ-Lxwdwh",
    "outputId": "4df243da-ad6f-4d2d-8566-cbe6ecf73c66",
    "ExecuteTime": {
     "end_time": "2023-08-20T16:51:37.725259517Z",
     "start_time": "2023-08-20T16:51:37.722232012Z"
    }
   },
   "execution_count": 4,
   "outputs": [
    {
     "name": "stdout",
     "output_type": "stream",
     "text": [
      "Specified paths with model checkpoint and config exist.\n",
      "Model checkpoint path: /home/sleepon/repos/PepeGenerator/lightning_logs/celeba/version_11/checkpoints/epoch=07-fid_metric=1.83-val_loss=0.0254.ckpt\n",
      "Model config path: /home/sleepon/repos/PepeGenerator/lightning_logs/celeba/version_11/checkpoints/epoch=07-fid_metric=1.83-val_loss=0.0254.ckpt\n"
     ]
    }
   ]
  },
  {
   "cell_type": "markdown",
   "source": [
    "# Setup Sampler"
   ],
   "metadata": {
    "id": "if3GPaxTxWI2"
   }
  },
  {
   "cell_type": "code",
   "source": [
    "from config import DDPMSamplingConfig, PCSamplingConfig, ODESamplingConfig\n",
    "\n",
    "\"\"\" default DDPM sampler \"\"\"\n",
    "ddpm_sampling_config =  DDPMSamplingConfig(\n",
    "    # DDPM params\n",
    "    beta_min = 0.0001,\n",
    "    beta_max = 0.02,\n",
    "    diffusion_steps = 1000,\n",
    ")\n",
    "\n",
    "\"\"\" Predictor-Corrector SDE Sampler \"\"\"\n",
    "pc_sampling_config = PCSamplingConfig(\n",
    "    # sde params\n",
    "    sde_name = 'VPSDE',  # one of VPSDE, subVPSDE, VESDE\n",
    "    num_scales = 1000,  # number of discretization timesteps\n",
    "    beta_min = 0.1,  # VPSDE, subVPSDE param\n",
    "    beta_max = 20., # VPSDE, subVPSDE param\n",
    "    sigma_min = 0.01,  # VESDE param\n",
    "    sigma_max = 50.,  # VESDE param\n",
    "    # predictor params\n",
    "    predictor_name = 'euler_maruyama',  # none, ancestral_sampling, reverse_diffusion, euler_maruyama\n",
    "    # corrector params\n",
    "    corrector_name = 'langevin',  # none, langevin, ald\n",
    "    snr = 0.01,  # signal-to-noise ratio\n",
    "    num_corrector_steps = 1,\n",
    "    # sampler params\n",
    "    probability_flow = False,\n",
    "    denoise = False,\n",
    ")\n",
    "\n",
    "\"\"\" ODE Solver \"\"\"\n",
    "ode_sampling_config = ODESamplingConfig(\n",
    "    # sde params\n",
    "    sde_name = 'VPSDE',  # VPSDE, subVPSDE, VESDE\n",
    "    num_scales = 1000,  # number of discretization timesteps\n",
    "    beta_min = 0.1,  # VPSDE, subVPSDE param\n",
    "    beta_max = 20.,  # VPSDE, subVPSDE param\n",
    "    sigma_min = 0.01,  # VESDE param\n",
    "    sigma_max = 50.,  # VESDE param\n",
    "    # ode solver params\n",
    "    method = 'RK45',\n",
    "    rtol = 1e-5,\n",
    "    atol = 1e-5,\n",
    "    # sampler params\n",
    "    denoise = False,\n",
    ")"
   ],
   "metadata": {
    "id": "hQK96Rt1hTUq",
    "is_executing": true
   },
   "execution_count": null,
   "outputs": []
  },
  {
   "cell_type": "markdown",
   "source": [
    "# Generate images"
   ],
   "metadata": {
    "collapsed": false
   }
  },
  {
   "cell_type": "code",
   "execution_count": null,
   "outputs": [],
   "source": [
    "from evaluate import inference\n",
    "\n",
    "sampling_cfg = None  # None, ddpm_sampling_config, pc_sampling_config, ode_sampling_config\n",
    "\n",
    "inference(\n",
    "    ckpt_path,\n",
    "    sampling_config=sampling_cfg,\n",
    "    grid_shape=(3, 3),\n",
    "    save_images=False, # saves generated images in checkpoint folder (and will override previous ones)\n",
    "    on_gpu=True,  # whether to use GPU (requires GPU accelerator) or run on CPU (slower) \n",
    ")"
   ],
   "metadata": {
    "collapsed": false
   }
  }
 ]
}
